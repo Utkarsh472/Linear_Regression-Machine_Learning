{
  "nbformat": 4,
  "nbformat_minor": 0,
  "metadata": {
    "colab": {
      "name": "ML:SimpleLinearRegressionModel.ipynb",
      "provenance": [],
      "collapsed_sections": [],
      "authorship_tag": "ABX9TyPXkAAMeqoPvXyD+jdIKlCH",
      "include_colab_link": true
    },
    "kernelspec": {
      "name": "python3",
      "display_name": "Python 3"
    },
    "language_info": {
      "name": "python"
    }
  },
  "cells": [
    {
      "cell_type": "markdown",
      "metadata": {
        "id": "view-in-github",
        "colab_type": "text"
      },
      "source": [
        "<a href=\"https://colab.research.google.com/github/Utkarsh472/Simple_Linear_Regression-Machine_Learning/blob/main/ML_SimpleLinearRegressionModel.ipynb\" target=\"_parent\"><img src=\"https://colab.research.google.com/assets/colab-badge.svg\" alt=\"Open In Colab\"/></a>"
      ]
    },
    {
      "cell_type": "markdown",
      "source": [
        "Simple Linear Regression"
      ],
      "metadata": {
        "id": "D7mHQMTQj5Re"
      }
    },
    {
      "cell_type": "code",
      "execution_count": null,
      "metadata": {
        "id": "2HBlRIZWHbXc"
      },
      "outputs": [],
      "source": [
        "import numpy as np\n",
        "import pandas as pd\n",
        "import matplotlib.pyplot as plt\n"
      ]
    },
    {
      "cell_type": "markdown",
      "source": [
        "Importing the datasets\n"
      ],
      "metadata": {
        "id": "klOgmUtXkQ4c"
      }
    },
    {
      "cell_type": "code",
      "source": [
        "dataset=pd.read_csv(\"Salary_Data.csv\")\n",
        "X=dataset.iloc[:,:-1].values # matrix of features\n",
        "Y=dataset.iloc[:,-1].values #dependent variable vector\n"
      ],
      "metadata": {
        "id": "VR7IfbzHkU_w"
      },
      "execution_count": null,
      "outputs": []
    },
    {
      "cell_type": "code",
      "source": [
        "print(X)"
      ],
      "metadata": {
        "colab": {
          "base_uri": "https://localhost:8080/"
        },
        "id": "8AMsjBXBlk6_",
        "outputId": "53918b77-1562-4b35-895a-0dbba87d8fdb"
      },
      "execution_count": null,
      "outputs": [
        {
          "output_type": "stream",
          "name": "stdout",
          "text": [
            "[[ 1.1]\n",
            " [ 1.3]\n",
            " [ 1.5]\n",
            " [ 2. ]\n",
            " [ 2.2]\n",
            " [ 2.9]\n",
            " [ 3. ]\n",
            " [ 3.2]\n",
            " [ 3.2]\n",
            " [ 3.7]\n",
            " [ 3.9]\n",
            " [ 4. ]\n",
            " [ 4. ]\n",
            " [ 4.1]\n",
            " [ 4.5]\n",
            " [ 4.9]\n",
            " [ 5.1]\n",
            " [ 5.3]\n",
            " [ 5.9]\n",
            " [ 6. ]\n",
            " [ 6.8]\n",
            " [ 7.1]\n",
            " [ 7.9]\n",
            " [ 8.2]\n",
            " [ 8.7]\n",
            " [ 9. ]\n",
            " [ 9.5]\n",
            " [ 9.6]\n",
            " [10.3]\n",
            " [10.5]]\n"
          ]
        }
      ]
    },
    {
      "cell_type": "code",
      "source": [
        "print(Y)"
      ],
      "metadata": {
        "colab": {
          "base_uri": "https://localhost:8080/"
        },
        "id": "y3P1quNClnz-",
        "outputId": "d15e6cf6-b153-4131-a3ab-d6a62be532fc"
      },
      "execution_count": null,
      "outputs": [
        {
          "output_type": "stream",
          "name": "stdout",
          "text": [
            "[ 39343.  46205.  37731.  43525.  39891.  56642.  60150.  54445.  64445.\n",
            "  57189.  63218.  55794.  56957.  57081.  61111.  67938.  66029.  83088.\n",
            "  81363.  93940.  91738.  98273. 101302. 113812. 109431. 105582. 116969.\n",
            " 112635. 122391. 121872.]\n"
          ]
        }
      ]
    },
    {
      "cell_type": "markdown",
      "source": [
        "Splitting the dataset in training and test"
      ],
      "metadata": {
        "id": "qmjOPBR-ktok"
      }
    },
    {
      "cell_type": "code",
      "source": [
        "#using sklearn library for model selection which contains function train to split\n",
        "#So basicaly we are going to get four sets X_train(matrix of features of training set), X_test(matrix of features of test set),\n",
        "#Y_train(dependent variable of training set),Y_test(dependent variable of test set)\n",
        "\n",
        "from sklearn.model_selection import train_test_split\n",
        "X_train,X_test,Y_train,Y_test=train_test_split(X, Y, test_size=0.2,random_state=0)\n",
        "\n",
        " #We dont have to split dataset equally as we need to give a lot of data\n",
        "#to train for our model to understand correlations better in our dataset\n",
        "#Well to make sure we have same kind of random factors we just add random_state=0"
      ],
      "metadata": {
        "id": "-_P4CAzDksL8"
      },
      "execution_count": null,
      "outputs": []
    },
    {
      "cell_type": "code",
      "source": [
        "print(X_train)"
      ],
      "metadata": {
        "colab": {
          "base_uri": "https://localhost:8080/"
        },
        "id": "T5lwQqaUli8c",
        "outputId": "500c2795-ad6f-4989-ad4e-c928a4e5054c"
      },
      "execution_count": null,
      "outputs": [
        {
          "output_type": "stream",
          "name": "stdout",
          "text": [
            "[[ 9.6]\n",
            " [ 4. ]\n",
            " [ 5.3]\n",
            " [ 7.9]\n",
            " [ 2.9]\n",
            " [ 5.1]\n",
            " [ 3.2]\n",
            " [ 4.5]\n",
            " [ 8.2]\n",
            " [ 6.8]\n",
            " [ 1.3]\n",
            " [10.5]\n",
            " [ 3. ]\n",
            " [ 2.2]\n",
            " [ 5.9]\n",
            " [ 6. ]\n",
            " [ 3.7]\n",
            " [ 3.2]\n",
            " [ 9. ]\n",
            " [ 2. ]\n",
            " [ 1.1]\n",
            " [ 7.1]\n",
            " [ 4.9]\n",
            " [ 4. ]]\n"
          ]
        }
      ]
    },
    {
      "cell_type": "code",
      "source": [
        "print(X_test)"
      ],
      "metadata": {
        "colab": {
          "base_uri": "https://localhost:8080/"
        },
        "id": "uKRuEtTZlwLa",
        "outputId": "8b000af6-5a30-4c6d-cbf9-dcbb97db8bac"
      },
      "execution_count": null,
      "outputs": [
        {
          "output_type": "stream",
          "name": "stdout",
          "text": [
            "[[ 1.5]\n",
            " [10.3]\n",
            " [ 4.1]\n",
            " [ 3.9]\n",
            " [ 9.5]\n",
            " [ 8.7]]\n"
          ]
        }
      ]
    },
    {
      "cell_type": "markdown",
      "source": [
        "Training the Simple Linear Regression Model on the training set"
      ],
      "metadata": {
        "id": "xYyvm9himNEs"
      }
    },
    {
      "cell_type": "code",
      "source": [
        "from sklearn.linear_model import LinearRegression\n",
        "#Regression is when we have to predict a continous real value like salary or marks \n",
        "#Classification which is used to predict the category\n",
        "regressor=LinearRegression()                    #object of Linear Regression class\n",
        "#The method which we are going to use to train our regression model is fit method\n",
        "#A class indeed does not have only instructions but a couple of tools also and these tools are called methods\n",
        "regressor.fit(X_train,Y_train)\n",
        "#Here fit method is a method of LinearRegression class\n"
      ],
      "metadata": {
        "colab": {
          "base_uri": "https://localhost:8080/"
        },
        "id": "lW_FMGe_l2Tm",
        "outputId": "746791a9-1f42-4420-8228-b5ed3a18e466"
      },
      "execution_count": null,
      "outputs": [
        {
          "output_type": "execute_result",
          "data": {
            "text/plain": [
              "LinearRegression()"
            ]
          },
          "metadata": {},
          "execution_count": 43
        }
      ]
    },
    {
      "cell_type": "code",
      "source": [
        "print(X_test)"
      ],
      "metadata": {
        "colab": {
          "base_uri": "https://localhost:8080/"
        },
        "id": "RcXU9QwfrLET",
        "outputId": "b0f45ae8-73a0-4463-9df1-b3ea51a3579b"
      },
      "execution_count": null,
      "outputs": [
        {
          "output_type": "stream",
          "name": "stdout",
          "text": [
            "[[ 1.5]\n",
            " [10.3]\n",
            " [ 4.1]\n",
            " [ 3.9]\n",
            " [ 9.5]\n",
            " [ 8.7]]\n"
          ]
        }
      ]
    },
    {
      "cell_type": "markdown",
      "source": [
        "Predicting the Test Results"
      ],
      "metadata": {
        "id": "-tMxFD9TpYP3"
      }
    },
    {
      "cell_type": "code",
      "source": [
        "Y_pred=regressor.predict(X_test)\n",
        "print(Y_pred)"
      ],
      "metadata": {
        "colab": {
          "base_uri": "https://localhost:8080/"
        },
        "id": "Yu8LG2ogpMwr",
        "outputId": "c7fb29bf-a794-4657-bd8d-4487be6325f5"
      },
      "execution_count": null,
      "outputs": [
        {
          "output_type": "stream",
          "name": "stdout",
          "text": [
            "[ 40748.96184072 122699.62295594  64961.65717022  63099.14214487\n",
            " 115249.56285456 107799.50275317]\n"
          ]
        }
      ]
    },
    {
      "cell_type": "markdown",
      "source": [
        "Visualising the Train Results"
      ],
      "metadata": {
        "id": "hq2uSxjPtTGk"
      }
    },
    {
      "cell_type": "code",
      "source": [
        "plt.scatter(X_train,Y_train,color='red')\n",
        "Y_train_pred=regressor.predict(X_train)\n",
        "plt.plot(X_train,Y_train_pred,color='blue')\n",
        "plt.xlabel(\"Experience (Years)\")\n",
        "plt.ylabel(\"Salary\")\n",
        "plt.grid()\n"
      ],
      "metadata": {
        "colab": {
          "base_uri": "https://localhost:8080/",
          "height": 279
        },
        "id": "G0lErDm5q48v",
        "outputId": "3b3a2a44-6e75-45e0-b1ad-ed847a33dbb9"
      },
      "execution_count": null,
      "outputs": [
        {
          "output_type": "display_data",
          "data": {
            "text/plain": [
              "<Figure size 432x288 with 1 Axes>"
            ],
            "image/png": "[encoded data removed]"
          },
          "metadata": {
            "needs_background": "light"
          }
        }
      ]
    },
    {
      "cell_type": "code",
      "source": [
        "plt.scatter(X_test,Y_test,color='red')\n",
        "plt.plot(X_train,Y_train_pred,color='blue')\n",
        "#remember that the regression line which we get is actually resulting from unique equation and therefore\n",
        "# the predicted salaries of test set will be on same regression line as of predicted from training set\n",
        "#You will get same regression line \n",
        "plt.xlabel(\"Experience (Years)\")\n",
        "plt.ylabel(\"Salary\")\n",
        "plt.grid()"
      ],
      "metadata": {
        "colab": {
          "base_uri": "https://localhost:8080/",
          "height": 279
        },
        "id": "Ib_1w27-thfb",
        "outputId": "c497ea1a-f345-4bc4-b017-8fe08dc62e2b"
      },
      "execution_count": null,
      "outputs": [
        {
          "output_type": "display_data",
          "data": {
            "text/plain": [
              "<Figure size 432x288 with 1 Axes>"
            ],
            "image/png": "[encoded data removed]"
          },
          "metadata": {
            "needs_background": "light"
          }
        }
      ]
    },
    {
      "cell_type": "code",
      "source": [
        ""
      ],
      "metadata": {
        "id": "jhKG7ztTvh4q"
      },
      "execution_count": null,
      "outputs": []
    }
  ]
}